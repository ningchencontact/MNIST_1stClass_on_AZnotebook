{
  "cells": [
    {
      "metadata": {},
      "cell_type": "markdown",
      "source": "Copyright (c) Microsoft Corporation. All rights reserved.\n\nLicensed under the MIT License."
    },
    {
      "metadata": {},
      "cell_type": "markdown",
      "source": "# Tutorial #1: Train an image classification model with Azure Machine Learning\n\nIn this tutorial, you train a machine learning model both locally and on remote compute resources. You'll use the training and deployment workflow for Azure Machine Learning service (preview) in a Python Jupyter notebook.  You can then use the notebook as a template to train your own machine learning model with your own data. This tutorial is **part one of a two-part tutorial series**.  \n\nThis tutorial trains a simple logistic regression using the [MNIST](http://yann.lecun.com/exdb/mnist/) dataset and [scikit-learn](http://scikit-learn.org) with Azure Machine Learning.  MNIST is a popular dataset consisting of 70,000 grayscale images. Each image is a handwritten digit of 28x28 pixels, representing a number from 0 to 9. The goal is to create a multi-class classifier to identify the digit a given image represents. \n\nLearn how to:\n\n> * Set up your development environment\n> * Access and examine the data\n> * Train a simple logistic regression model locally using the popular scikit-learn machine learning library \n> * Train multiple models on a remote cluster\n> * Review training results, find and register the best model\n\nYou'll learn how to select a model and deploy it in [part two of this tutorial](deploy-models.ipynb) later. \n\n## Prerequisites\n\nUse [these instructions](https://aka.ms/aml-how-to-configure-environment) to:  \n* Create a workspace and its configuration file (**config.json**)  \n* Save your **config.json** to the same folder as this notebook"
    },
    {
      "metadata": {},
      "cell_type": "markdown",
      "source": "## Set up your development environment\n\nAll the setup for your development work can be accomplished in a Python notebook.  Setup includes:\n\n* Importing Python packages\n* Connecting to a workspace to enable communication between your local computer and remote resources\n* Creating an experiment to track all your runs\n* Creating a remote compute target to use for training\n\n### Import packages\n\nImport Python packages you need in this session. Also display the Azure Machine Learning SDK version."
    },
    {
      "metadata": {
        "tags": [
          "check version"
        ],
        "trusted": true
      },
      "cell_type": "code",
      "source": "%matplotlib inline\nimport numpy as np\nimport matplotlib\nimport matplotlib.pyplot as plt\n\nimport azureml\nfrom azureml.core import Workspace, Run\n\n# check core SDK version number\nprint(\"Azure ML SDK Version: \", azureml.core.VERSION)",
      "execution_count": 7,
      "outputs": [
        {
          "output_type": "stream",
          "text": "Azure ML SDK Version:  1.0.15\n",
          "name": "stdout"
        }
      ]
    },
    {
      "metadata": {},
      "cell_type": "markdown",
      "source": "### Connect to workspace\n請記得在等一下的畫面做devicelogin  \n將code貼到 https://microsoft.com/devicelogin 頁面上  \nCreate a workspace object from the existing workspace. `Workspace.from_config()` reads the file **config.json** and loads the details into an object named `ws`."
    },
    {
      "metadata": {
        "tags": [
          "load workspace"
        ],
        "trusted": true
      },
      "cell_type": "code",
      "source": "# load workspace configuration from the config.json file in the current folder.\nws = Workspace.from_config()\nprint(ws.name, ws.location, ws.resource_group, ws.location, sep = '\\t')",
      "execution_count": 8,
      "outputs": [
        {
          "output_type": "stream",
          "text": "Falling back to use azure cli credentials. This fall back to use azure cli credentials will be removed in the next release. \nMake sure your code doesn't require 'az login' to have happened before using azureml-sdk, except the case when you are specifying AzureCliAuthentication in azureml-sdk.\n",
          "name": "stderr"
        },
        {
          "output_type": "stream",
          "text": "Found the config file in: /home/nbuser/library/config.json\nPerforming interactive authentication. Please follow the instructions on the terminal.\nTo sign in, use a web browser to open the page https://microsoft.com/devicelogin and enter the code FZ24P87GB to authenticate.\nInteractive authentication successfully completed.\nImageClassification\teastus\tLecture\teastus\n",
          "name": "stdout"
        }
      ]
    },
    {
      "metadata": {},
      "cell_type": "markdown",
      "source": "### Create experiment\n\nCreate an experiment to track the runs in your workspace. A workspace can have muliple experiments. "
    },
    {
      "metadata": {
        "tags": [
          "create experiment"
        ],
        "trusted": true
      },
      "cell_type": "code",
      "source": "experiment_name = 'sklearn-mnist'\n\nfrom azureml.core import Experiment\nexp = Experiment(workspace=ws, name=experiment_name)",
      "execution_count": 9,
      "outputs": []
    },
    {
      "metadata": {},
      "cell_type": "markdown",
      "source": "### Create or Attach existing AmlCompute  \n將新增一個AmlCompute(Azure Machine Learning Computing Power)  \n開啟一個運算的GPU 及 相對應的 機器\nYou will need to create a [compute target](https://docs.microsoft.com/azure/machine-learning/service/concept-azure-machine-learning-architecture#compute-target) for training your model. In this tutorial, you create `AmlCompute` as your training compute resource.\n\n**Creation of AmlCompute takes approximately 5 minutes.** If the AmlCompute with that name is already in your workspace this code will skip the creation process."
    },
    {
      "metadata": {
        "tags": [
          "create mlc",
          "amlcompute"
        ],
        "trusted": true
      },
      "cell_type": "code",
      "source": "from azureml.core.compute import AmlCompute\nfrom azureml.core.compute import ComputeTarget\nimport os\n\n# choose a name for your cluster\n#開啟GPU\ncompute_name = os.environ.get(\"AML_COMPUTE_CLUSTER_NAME\", \"gpucluster\")\ncompute_min_nodes = os.environ.get(\"AML_COMPUTE_CLUSTER_MIN_NODES\", 0)\ncompute_max_nodes = os.environ.get(\"AML_COMPUTE_CLUSTER_MAX_NODES\", 4)\n\n# 建議開啟GPU VM, set SKU to STANDARD_NC6，若效能不夠再做調整\nvm_size = os.environ.get(\"AML_COMPUTE_CLUSTER_SKU\", \"STANDARD_NC6\")\n\n\nif compute_name in ws.compute_targets:\n    compute_target = ws.compute_targets[compute_name]\n    if compute_target and type(compute_target) is AmlCompute:\n        print('found compute target. just use it. ' + compute_name)\nelse:\n    print('creating a new compute target...')\n    provisioning_config = AmlCompute.provisioning_configuration(vm_size = vm_size,\n                                                                min_nodes = compute_min_nodes, \n                                                                max_nodes = compute_max_nodes)\n\n    # create the cluster\n    compute_target = ComputeTarget.create(ws, compute_name, provisioning_config)\n    \n    # can poll for a minimum number of nodes and for a specific timeout. \n    # if no min node count is provided it will use the scale settings for the cluster\n    compute_target.wait_for_completion(show_output=True, min_node_count=None, timeout_in_minutes=20)\n    \n     # For a more detailed view of current AmlCompute status, use get_status()\n    print(compute_target.get_status().serialize())",
      "execution_count": 17,
      "outputs": [
        {
          "output_type": "stream",
          "text": "found compute target. just use it. gpucluster\n",
          "name": "stdout"
        }
      ]
    },
    {
      "metadata": {},
      "cell_type": "markdown",
      "source": "You now have the necessary packages and compute resources to train a model in the cloud. \n\n## Explore data  \n你可以選擇在Local的Jupyter Notebooks執行，只需要確認config處理好\n\nBefore you train a model, you need to understand the data that you are using to train it.  You also need to copy the data into the cloud so it can be accessed by your cloud training environment.  In this section you learn how to:\n\n* Download the MNIST dataset\n* Display some sample images\n* Upload data to the cloud\n\n### Download the MNIST dataset\n\nDownload the MNIST dataset and save the files into a `data` directory locally.  Images and labels for both training and testing are downloaded."
    },
    {
      "metadata": {
        "trusted": true
      },
      "cell_type": "code",
      "source": "import os\nimport urllib.request\n\nos.makedirs('./data', exist_ok = True)\n\nurllib.request.urlretrieve('http://yann.lecun.com/exdb/mnist/train-images-idx3-ubyte.gz', filename='./data/train-images.gz')\nurllib.request.urlretrieve('http://yann.lecun.com/exdb/mnist/train-labels-idx1-ubyte.gz', filename='./data/train-labels.gz')\nurllib.request.urlretrieve('http://yann.lecun.com/exdb/mnist/t10k-images-idx3-ubyte.gz', filename='./data/test-images.gz')\nurllib.request.urlretrieve('http://yann.lecun.com/exdb/mnist/t10k-labels-idx1-ubyte.gz', filename='./data/test-labels.gz')",
      "execution_count": 6,
      "outputs": [
        {
          "output_type": "execute_result",
          "execution_count": 6,
          "data": {
            "text/plain": "('./data/test-labels.gz', <http.client.HTTPMessage at 0x7f7085977c18>)"
          },
          "metadata": {}
        }
      ]
    },
    {
      "metadata": {},
      "cell_type": "markdown",
      "source": "### Display some sample images\n\nLoad the compressed files into `numpy` arrays. Then use `matplotlib` to plot 30 random images from the dataset with their labels above them. Note this step requires a `load_data` function that's included in an `util.py` file. This file is included in the sample folder. Please make sure it is placed in the same folder as this notebook. The `load_data` function simply parses the compresse files into numpy arrays."
    },
    {
      "metadata": {
        "trusted": true
      },
      "cell_type": "code",
      "source": "# make sure utils.py is in the same directory as this code\nfrom utils import load_data\nimport matplotlib.pyplot as plt\nimport numpy as np\n\n# note we also shrink the intensity values (X) from 0-255 to 0-1. This helps the model converge faster.\nX_train = load_data('./data/train-images.gz', False) / 255.0\ny_train = load_data('./data/train-labels.gz', True).reshape(-1)\n\nX_test = load_data('./data/test-images.gz', False) / 255.0\ny_test = load_data('./data/test-labels.gz', True).reshape(-1)\n\n# now let's show some randomly chosen images from the traininng set.\ncount = 0\nsample_size = 30\nplt.figure(figsize = (16, 6))\nfor i in np.random.permutation(X_train.shape[0])[:sample_size]:\n    count = count + 1\n    plt.subplot(1, sample_size, count)\n    plt.axhline('')\n    plt.axvline('')\n    plt.text(x=10, y=-10, s=y_train[i], fontsize=18)\n    plt.imshow(X_train[i].reshape(28, 28), cmap=plt.cm.Greys)\nplt.show()",
      "execution_count": 4,
      "outputs": [
        {
          "output_type": "display_data",
          "data": {
            "image/png": "[encoded data removed]",
            "text/plain": "<Figure size 1152x432 with 30 Axes>"
          },
          "metadata": {
            "needs_background": "light"
          }
        }
      ]
    },
    {
      "metadata": {},
      "cell_type": "markdown",
      "source": "Now you have an idea of what these images look like and the expected prediction outcome.\n\n### Upload data to the cloud\n\nNow make the data accessible remotely by uploading that data from your local machine into Azure so it can be accessed for remote training. The datastore is a convenient construct associated with your workspace for you to upload/download data, and interact with it from your remote compute targets. It is backed by Azure blob storage account.\n\nThe MNIST files are uploaded into a directory named `mnist` at the root of the datastore."
    },
    {
      "metadata": {
        "tags": [
          "use datastore"
        ],
        "trusted": true
      },
      "cell_type": "code",
      "source": "ds = ws.get_default_datastore()\nprint(ds.datastore_type, ds.account_name, ds.container_name)\n\nds.upload(src_dir='./data', target_path='mnist', overwrite=True, show_progress=True)",
      "execution_count": 10,
      "outputs": [
        {
          "output_type": "stream",
          "text": "AzureBlob imageclassific4080159592 azureml-blobstore-0bb8f2da-8797-420d-9294-19ad6a59bdbe\nUploading ./data/test-images.gz\nUploading ./data/test-labels.gz\nUploading ./data/train-images.gz\nUploading ./data/train-labels.gz\nUploaded ./data/test-labels.gz, 1 files out of an estimated total of 4\nUploaded ./data/train-labels.gz, 2 files out of an estimated total of 4\nUploaded ./data/test-images.gz, 3 files out of an estimated total of 4\nUploaded ./data/train-images.gz, 4 files out of an estimated total of 4\n",
          "name": "stdout"
        },
        {
          "output_type": "execute_result",
          "execution_count": 10,
          "data": {
            "text/plain": "$AZUREML_DATAREFERENCE_b128d6a25fd44df981592308b95650f7"
          },
          "metadata": {}
        }
      ]
    },
    {
      "metadata": {},
      "cell_type": "markdown",
      "source": "You now have everything you need to start training a model. \n\n## Train a local model\n\nTrain a simple logistic regression model using scikit-learn locally.\n\n**Training locally can take a minute or two** depending on your computer configuration."
    },
    {
      "metadata": {
        "trusted": true
      },
      "cell_type": "code",
      "source": "%%time\nfrom sklearn.linear_model import LogisticRegression\n\nclf = LogisticRegression()\nclf.fit(X_train, y_train)",
      "execution_count": 11,
      "outputs": [
        {
          "output_type": "stream",
          "text": "CPU times: user 1min 57s, sys: 92.3 ms, total: 1min 57s\nWall time: 1min 57s\n",
          "name": "stdout"
        }
      ]
    },
    {
      "metadata": {},
      "cell_type": "markdown",
      "source": "Next, make predictions using the test set and calculate the accuracy."
    },
    {
      "metadata": {
        "trusted": true
      },
      "cell_type": "code",
      "source": "y_hat = clf.predict(X_test)\nprint(np.average(y_hat == y_test))",
      "execution_count": 12,
      "outputs": [
        {
          "output_type": "stream",
          "text": "0.9201\n",
          "name": "stdout"
        }
      ]
    },
    {
      "metadata": {},
      "cell_type": "markdown",
      "source": "With just a few lines of code, you have a 92% accuracy.\n\n## Train on a remote cluster\n\nNow you can expand on this simple model by building a model with a different regularization rate. This time you'll train the model on a remote resource.  \n\nFor this task, submit the job to the remote training cluster you set up earlier.  To submit a job you:\n* Create a directory\n* Create a training script\n* Create an estimator object\n* Submit the job \n\n### Create a directory\n\nCreate a directory to deliver the necessary code from your computer to the remote resource."
    },
    {
      "metadata": {
        "trusted": true
      },
      "cell_type": "code",
      "source": "import os\nscript_folder = './sklearn-mnist'\nos.makedirs(script_folder, exist_ok=True)",
      "execution_count": 13,
      "outputs": []
    },
    {
      "metadata": {},
      "cell_type": "markdown",
      "source": "### Create a training script\n\nTo submit the job to the cluster, first create a training script. Run the following code to create the training script called `train.py` in the directory you just created. This training adds a regularization rate to the training algorithm, so produces a slightly different model than the local version."
    },
    {
      "metadata": {
        "trusted": true
      },
      "cell_type": "code",
      "source": "%%writefile $script_folder/train.py\n\nimport argparse\nimport os\nimport numpy as np\n\nfrom sklearn.linear_model import LogisticRegression\nfrom sklearn.externals import joblib\n\nfrom azureml.core import Run\nfrom utils import load_data\n\n# let user feed in 2 parameters, the location of the data files (from datastore), and the regularization rate of the logistic regression model\nparser = argparse.ArgumentParser()\nparser.add_argument('--data-folder', type=str, dest='data_folder', help='data folder mounting point')\nparser.add_argument('--regularization', type=float, dest='reg', default=0.01, help='regularization rate')\nargs = parser.parse_args()\n\ndata_folder = os.path.join(args.data_folder, 'mnist')\nprint('Data folder:', data_folder)\n\n# load train and test set into numpy arrays\n# note we scale the pixel intensity values to 0-1 (by dividing it with 255.0) so the model can converge faster.\nX_train = load_data(os.path.join(data_folder, 'train-images.gz'), False) / 255.0\nX_test = load_data(os.path.join(data_folder, 'test-images.gz'), False) / 255.0\ny_train = load_data(os.path.join(data_folder, 'train-labels.gz'), True).reshape(-1)\ny_test = load_data(os.path.join(data_folder, 'test-labels.gz'), True).reshape(-1)\nprint(X_train.shape, y_train.shape, X_test.shape, y_test.shape, sep = '\\n')\n\n# get hold of the current run\nrun = Run.get_context()\n\nprint('Train a logistic regression model with regularizaion rate of', args.reg)\nclf = LogisticRegression(C=1.0/args.reg, random_state=42)\nclf.fit(X_train, y_train)\n\nprint('Predict the test set')\ny_hat = clf.predict(X_test)\n\n# calculate accuracy on the prediction\nacc = np.average(y_hat == y_test)\nprint('Accuracy is', acc)\n\nrun.log('regularization rate', np.float(args.reg))\nrun.log('accuracy', np.float(acc))\n\nos.makedirs('outputs', exist_ok=True)\n# note file saved in the outputs folder is automatically uploaded into experiment record\njoblib.dump(value=clf, filename='outputs/sklearn_mnist_model.pkl')",
      "execution_count": 14,
      "outputs": [
        {
          "output_type": "stream",
          "text": "Writing ./sklearn-mnist/train.py\n",
          "name": "stdout"
        }
      ]
    },
    {
      "metadata": {},
      "cell_type": "markdown",
      "source": "Notice how the script gets data and saves models:\n\n+ The training script reads an argument to find the directory containing the data.  When you submit the job later, you point to the datastore for this argument:\n`parser.add_argument('--data-folder', type=str, dest='data_folder', help='data directory mounting point')`"
    },
    {
      "metadata": {},
      "cell_type": "markdown",
      "source": "\n+ The training script saves your model into a directory named outputs. <br/>\n`joblib.dump(value=clf, filename='outputs/sklearn_mnist_model.pkl')`<br/>\nAnything written in this directory is automatically uploaded into your workspace. You'll access your model from this directory later in the tutorial."
    },
    {
      "metadata": {},
      "cell_type": "markdown",
      "source": "The file `utils.py` is referenced from the training script to load the dataset correctly.  Copy this script into the script folder so that it can be accessed along with the training script on the remote resource."
    },
    {
      "metadata": {
        "trusted": true
      },
      "cell_type": "code",
      "source": "import shutil\nshutil.copy('utils.py', script_folder)",
      "execution_count": 15,
      "outputs": [
        {
          "output_type": "execute_result",
          "execution_count": 15,
          "data": {
            "text/plain": "'./sklearn-mnist/utils.py'"
          },
          "metadata": {}
        }
      ]
    },
    {
      "metadata": {},
      "cell_type": "markdown",
      "source": "### Create an estimator\n\nAn estimator object is used to submit the run.  Create your estimator by running the following code to define:\n\n* The name of the estimator object, `est`\n* The directory that contains your scripts. All the files in this directory are uploaded into the cluster nodes for execution. \n* The compute target.  In this case you will use the AmlCompute you created\n* The training script name, train.py\n* Parameters required from the training script \n* Python packages needed for training\n\nIn this tutorial, this target is AmlCompute. All files in the script folder are uploaded into the cluster nodes for execution. The data_folder is set to use the datastore (`ds.as_mount()`)."
    },
    {
      "metadata": {
        "tags": [
          "configure estimator"
        ],
        "trusted": true
      },
      "cell_type": "code",
      "source": "from azureml.train.estimator import Estimator\n\nscript_params = {\n    '--data-folder': ds.as_mount(),\n    '--regularization': 0.8\n}\n\nest = Estimator(source_directory=script_folder,\n                script_params=script_params,\n                compute_target=compute_target,\n                entry_script='train.py',\n                conda_packages=['scikit-learn'])",
      "execution_count": 18,
      "outputs": []
    },
    {
      "metadata": {},
      "cell_type": "markdown",
      "source": "### Submit the job to the cluster\n\nRun the experiment by submitting the estimator object."
    },
    {
      "metadata": {
        "tags": [
          "remote run",
          "amlcompute",
          "scikit-learn"
        ],
        "trusted": true
      },
      "cell_type": "code",
      "source": "run = exp.submit(config=est)\nrun",
      "execution_count": 19,
      "outputs": [
        {
          "output_type": "execute_result",
          "execution_count": 19,
          "data": {
            "text/html": "<table style=\"width:100%\"><tr><th>Experiment</th><th>Id</th><th>Type</th><th>Status</th><th>Details Page</th><th>Docs Page</th></tr><tr><td>sklearn-mnist</td><td>sklearn-mnist_1552043562_eb94e33a</td><td>azureml.scriptrun</td><td>Starting</td><td><a href=\"https://mlworkspace.azure.ai/portal/subscriptions/c65b2cea-196f-421a-93fb-a7100e06c500/resourceGroups/Lecture/providers/Microsoft.MachineLearningServices/workspaces/ImageClassification/experiments/sklearn-mnist/runs/sklearn-mnist_1552043562_eb94e33a\" target=\"_blank\" rel=\"noopener\">Link to Azure Portal</a></td><td><a href=\"https://docs.microsoft.com/en-us/python/api/azureml-core/azureml.core.script_run.ScriptRun?view=azure-ml-py\" target=\"_blank\" rel=\"noopener\">Link to Documentation</a></td></tr></table>",
            "text/plain": "Run(Experiment: sklearn-mnist,\nId: sklearn-mnist_1552043562_eb94e33a,\nType: azureml.scriptrun,\nStatus: Starting)"
          },
          "metadata": {}
        }
      ]
    },
    {
      "metadata": {},
      "cell_type": "markdown",
      "source": "Since the call is asynchronous, it returns a **Preparing** or **Running** state as soon as the job is started.\n\n## Monitor a remote run\n\nIn total, the first run takes **approximately 10 minutes**. But for subsequent runs, as long as the script dependencies don't change, the same image is reused and hence the container start up time is much faster.\n\nHere is what's happening while you wait:\n\n- **Image creation**: A Docker image is created matching the Python environment specified by the estimator. The image is uploaded to the workspace. Image creation and uploading takes **about 5 minutes**. \n\n  This stage happens once for each Python environment since the container is cached for subsequent runs.  During image creation, logs are streamed to the run history. You can monitor the image creation progress using these logs.\n\n- **Scaling**: If the remote cluster requires more nodes to execute the run than currently available, additional nodes are added automatically. Scaling typically takes **about 5 minutes.**\n\n- **Running**: In this stage, the necessary scripts and files are sent to the compute target, then data stores are mounted/copied, then the entry_script is run. While the job is running, stdout and the ./logs directory are streamed to the run history. You can monitor the run's progress using these logs.\n\n- **Post-Processing**: The ./outputs directory of the run is copied over to the run history in your workspace so you can access these results.\n\n\nYou can check the progress of a running job in multiple ways. This tutorial uses a Jupyter widget as well as a `wait_for_completion` method. \n\n### Jupyter widget\n\nWatch the progress of the run with a Jupyter widget.  Like the run submission, the widget is asynchronous and provides live updates every 10-15 seconds until the job completes."
    },
    {
      "metadata": {
        "tags": [
          "use notebook widget"
        ],
        "trusted": true
      },
      "cell_type": "code",
      "source": "from azureml.widgets import RunDetails\nRunDetails(run).show()",
      "execution_count": 21,
      "outputs": [
        {
          "output_type": "display_data",
          "data": {
            "application/vnd.jupyter.widget-view+json": {
              "model_id": "df1beb979b2c4cb1a870d1d48f6dee42",
              "version_minor": 0,
              "version_major": 2
            },
            "text/plain": "_UserRunWidget(widget_settings={'childWidgetDisplay': 'popup', 'send_telemetry': False, 'log_level': 'INFO', '…"
          },
          "metadata": {}
        }
      ]
    },
    {
      "metadata": {},
      "cell_type": "markdown",
      "source": "### Get log results upon completion\n\nModel training and monitoring happen in the background. Wait until the model has completed training before running more code. Use `wait_for_completion` to show when the model training is complete."
    },
    {
      "metadata": {
        "tags": [
          "remote run",
          "amlcompute",
          "scikit-learn"
        ],
        "trusted": false
      },
      "cell_type": "code",
      "source": "run.wait_for_completion(show_output=False) # specify True for a verbose log",
      "execution_count": null,
      "outputs": []
    },
    {
      "metadata": {},
      "cell_type": "markdown",
      "source": "### Display run results\n\nYou now have a model trained on a remote cluster.  Retrieve the accuracy of the model:"
    },
    {
      "metadata": {
        "tags": [
          "get metrics"
        ],
        "trusted": true
      },
      "cell_type": "code",
      "source": "print(run.get_metrics())",
      "execution_count": 22,
      "outputs": [
        {
          "output_type": "stream",
          "text": "{'regularization rate': 0.8, 'accuracy': 0.9204}\n",
          "name": "stdout"
        }
      ]
    },
    {
      "metadata": {},
      "cell_type": "markdown",
      "source": "In the next tutorial you will explore this model in more detail.\n\n## Register model\n\nThe last step in the training script wrote the file `outputs/sklearn_mnist_model.pkl` in a directory named `outputs` in the VM of the cluster where the job is executed. `outputs` is a special directory in that all content in this  directory is automatically uploaded to your workspace.  This content appears in the run record in the experiment under your workspace. Hence, the model file is now also available in your workspace.\n\nYou can see files associated with that run."
    },
    {
      "metadata": {
        "tags": [
          "query history"
        ],
        "trusted": true
      },
      "cell_type": "code",
      "source": "print(run.get_file_names())",
      "execution_count": 23,
      "outputs": [
        {
          "output_type": "stream",
          "text": "['azureml-logs/20_image_build_log.txt', 'azureml-logs/55_batchai_execution.txt', 'azureml-logs/60_control_log.txt', 'azureml-logs/80_driver_log.txt', 'azureml-logs/azureml.log', 'outputs/sklearn_mnist_model.pkl']\n",
          "name": "stdout"
        }
      ]
    },
    {
      "metadata": {},
      "cell_type": "markdown",
      "source": "Register the model in the workspace so that you (or other collaborators) can later query, examine, and deploy this model."
    },
    {
      "metadata": {
        "tags": [
          "register model from history"
        ],
        "trusted": true
      },
      "cell_type": "code",
      "source": "# register model \nmodel = run.register_model(model_name='sklearn_mnist', model_path='outputs/sklearn_mnist_model.pkl')\nprint(model.name, model.id, model.version, sep = '\\t')",
      "execution_count": 24,
      "outputs": [
        {
          "output_type": "stream",
          "text": "sklearn_mnist\tsklearn_mnist:1\t1\n",
          "name": "stdout"
        }
      ]
    },
    {
      "metadata": {},
      "cell_type": "markdown",
      "source": "## Next steps\n\nIn this Azure Machine Learning tutorial, you used Python to:\n\n> * Set up your development environment\n> * Access and examine the data\n> * Train a simple logistic regression locally using the popular scikit-learn machine learning library\n> * Train multiple models on a remote cluster\n> * Review training details and register the best model\n\nYou are ready to deploy this registered model using the instructions in the next part of the tutorial series:\n\n> [Tutorial 2 - Deploy models](img-classification-part2-deploy.ipynb)"
    }
  ],
  "metadata": {
    "authors": [
      {
        "name": "roastala"
      }
    ],
    "kernelspec": {
      "name": "python36",
      "display_name": "Python 3.6",
      "language": "python"
    },
    "language_info": {
      "mimetype": "text/x-python",
      "nbconvert_exporter": "python",
      "name": "python",
      "pygments_lexer": "ipython3",
      "version": "3.6.6",
      "file_extension": ".py",
      "codemirror_mode": {
        "version": 3,
        "name": "ipython"
      }
    },
    "msauthor": "sgilley"
  },
  "nbformat": 4,
  "nbformat_minor": 2
}
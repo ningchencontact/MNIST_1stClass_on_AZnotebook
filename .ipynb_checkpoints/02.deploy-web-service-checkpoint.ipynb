{
  "cells": [
    {
      "metadata": {},
      "cell_type": "markdown",
      "source": "Copyright (c) Microsoft Corporation. All rights reserved.\n\nLicensed under the MIT License."
    },
    {
      "metadata": {},
      "cell_type": "markdown",
      "source": "## Introduction to Azure Machine Learning: Deploy web service\n\nIn previous example, you ran an experiment to estimate value of pi. In this example, we'll use your estimated value to create a web service that computes the area of a circle in a real time. You'll learn about following concepts:\n\n**Model** is simply a file - or a folder of files - that model management service tracks and versions. Typically a model file would contain the coefficients of your trained model, saved to a file.  \n\n**Image** is a combination of model, a Python scoring script that tells how to load and invoke the model, and Python libraries used to execute that code. It is a self-contained unit that can be deployed as a service.\n\n**Service** is the image running on a compute. The service can be called from your front-end application to get predictions, either using the Azure ML SDK or raw HTTP."
    },
    {
      "metadata": {},
      "cell_type": "markdown",
      "source": "**Important**: This notebook uses Azure Container Instances (ACI) as the compute for the service. If you haven't registered ACI provider with your Azure subscription, run the following 2 cells first. Note that you must be the administrator of your Azure subscription to register a provider."
    },
    {
      "metadata": {
        "trusted": true
      },
      "cell_type": "code",
      "source": "!az provider show -n Microsoft.ContainerInstance -o table",
      "execution_count": null,
      "outputs": []
    },
    {
      "metadata": {
        "trusted": true
      },
      "cell_type": "code",
      "source": "!az provider register -n Microsoft.ContainerInstance",
      "execution_count": null,
      "outputs": []
    },
    {
      "metadata": {},
      "cell_type": "markdown",
      "source": "Let's load the workspace, and retrieve the latest run from your experiment using *Experiment.get_runs* method."
    },
    {
      "metadata": {
        "trusted": true
      },
      "cell_type": "code",
      "source": "from azureml.core import Workspace, Experiment, Run\nimport math, random, pickle, json",
      "execution_count": null,
      "outputs": []
    },
    {
      "metadata": {
        "trusted": true
      },
      "cell_type": "code",
      "source": "ws = Workspace.from_config()",
      "execution_count": null,
      "outputs": []
    },
    {
      "metadata": {
        "trusted": true
      },
      "cell_type": "code",
      "source": "experiment_name = \"my-first-experiment\"\nrun = list(Experiment(workspace = ws, name = experiment_name).get_runs())[0]",
      "execution_count": null,
      "outputs": []
    },
    {
      "metadata": {},
      "cell_type": "markdown",
      "source": "In the previous example you saved a file containing the pi value into run history. Registering the file makes it into a model that is tracked by Azure ML model management."
    },
    {
      "metadata": {
        "trusted": true
      },
      "cell_type": "code",
      "source": "model = run.register_model(model_name = \"pi_estimate\", model_path = \"outputs/pi_estimate.txt\")",
      "execution_count": null,
      "outputs": []
    },
    {
      "metadata": {},
      "cell_type": "markdown",
      "source": "Let's create a scoring script that computes an area of a circle, given the estimate within the pi_estimate model. The scoring script consists of two parts: \n\n * The *init* method that loads the model. You can retrieve registered model using *Model.get_model_path* method. \n * The *run* method that gets invoked when you call the web service. It computes the area of a circle using the well-known $area = \\pi*radius^2$ formula. The inputs and outputs are passed as json-formatted strings."
    },
    {
      "metadata": {
        "trusted": true
      },
      "cell_type": "code",
      "source": "%%writefile score.py\nimport pickle, json\nfrom azureml.core.model import Model\n\ndef init():\n    global pi_estimate\n    model_path = Model.get_model_path(model_name = \"pi_estimate\")\n    with open(model_path, \"rb\") as f:\n        pi_estimate = float(pickle.load(f))\n\ndef run(raw_data):\n    try:\n        radius = json.loads(raw_data)[\"radius\"]\n        result = pi_estimate * radius**2\n        return json.dumps({\"area\": result})\n    except Exception as e:\n        result = str(e)\n        return json.dumps({\"error\": result})",
      "execution_count": null,
      "outputs": []
    },
    {
      "metadata": {},
      "cell_type": "markdown",
      "source": "You also need to specify the library dependencies of your scoring script as conda yml file. This example doesn't use any special libraries, so let's simply use Azure ML's default dependencies."
    },
    {
      "metadata": {
        "trusted": true
      },
      "cell_type": "code",
      "source": "from azureml.core.conda_dependencies import CondaDependencies \n\ncd = CondaDependencies()\ncd.save_to_file(\".\", \"myenv.yml\")",
      "execution_count": null,
      "outputs": []
    },
    {
      "metadata": {},
      "cell_type": "markdown",
      "source": "Then, let's deploy the web service on Azure Container Instance: a serverless compute for running Docker images. Azure ML service takes care of packaging your model, scoring script and dependencies into Docker image and deploying it."
    },
    {
      "metadata": {
        "trusted": true
      },
      "cell_type": "code",
      "source": "from azureml.core.webservice import AciWebservice, Webservice\nfrom azureml.core.image import ContainerImage\n\n# Define the configuration of compute: ACI with 1 cpu core and 1 gb of memory.\naci_config = AciWebservice.deploy_configuration(cpu_cores = 1, memory_gb = 1)\n\n# Specify the configuration of image: scoring script, Python runtime (PySpark is the other option), and conda file of library dependencies.\nimage_config = ContainerImage.image_configuration(execution_script = \"score.py\", \n                                    runtime = \"python\", \n                                    conda_file = \"myenv.yml\")\n\n# Deploy the web service as an image containing the registered model.\nservice = Webservice.deploy_from_model(name = \"area-calculator\",\n                                       deployment_config = aci_config,\n                                       models = [model],\n                                       image_config = image_config,\n                                       workspace = ws)\n\n# The service deployment can take several minutes: wait for completion.\nservice.wait_for_deployment(show_output = True)",
      "execution_count": null,
      "outputs": []
    },
    {
      "metadata": {},
      "cell_type": "markdown",
      "source": "You can try out the web service by passing in data as json-formatted request. Run the cell below and move the slider around to see real-time responses."
    },
    {
      "metadata": {
        "trusted": true
      },
      "cell_type": "code",
      "source": "from ipywidgets import interact\n\ndef get_area(radius):\n    request = json.dumps({\"radius\": radius})\n    response = service.run(input_data = request)\n    return json.loads(response)[\"area\"]\n\ninteract(get_area,radius=(0,10))",
      "execution_count": null,
      "outputs": []
    },
    {
      "metadata": {},
      "cell_type": "markdown",
      "source": "Finally, delete the web service once you're done, so it's not consuming resources."
    },
    {
      "metadata": {
        "trusted": true
      },
      "cell_type": "code",
      "source": "service.delete()",
      "execution_count": null,
      "outputs": []
    },
    {
      "metadata": {},
      "cell_type": "markdown",
      "source": "As your next step, take a look at the more detailed tutorial for building an image classification model using Azure Machine Learning service.\n\n[tutorials/img-classification-part1-training](./tutorials/img-classification-part1-training.ipynb)"
    },
    {
      "metadata": {
        "trusted": true
      },
      "cell_type": "code",
      "source": "",
      "execution_count": null,
      "outputs": []
    }
  ],
  "metadata": {
    "kernelspec": {
      "name": "python36",
      "display_name": "Python 3.6",
      "language": "python"
    },
    "language_info": {
      "mimetype": "text/x-python",
      "nbconvert_exporter": "python",
      "name": "python",
      "pygments_lexer": "ipython3",
      "version": "3.6.6",
      "file_extension": ".py",
      "codemirror_mode": {
        "version": 3,
        "name": "ipython"
      }
    }
  },
  "nbformat": 4,
  "nbformat_minor": 2
}
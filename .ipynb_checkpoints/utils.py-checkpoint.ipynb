{
  "cells": [
    {
      "metadata": {
        "trusted": true
      },
      "cell_type": "code",
      "source": "# Copyright (c) Microsoft Corporation. All rights reserved.\n# Licensed under the MIT License.\n\nimport gzip\nimport numpy as np\nimport struct\n\n\n# load compressed MNIST gz files and return numpy arrays\ndef load_data(filename, label=False):\n    with gzip.open(filename) as gz:\n        struct.unpack('I', gz.read(4))\n        n_items = struct.unpack('>I', gz.read(4))\n        if not label:\n            n_rows = struct.unpack('>I', gz.read(4))[0]\n            n_cols = struct.unpack('>I', gz.read(4))[0]\n            res = np.frombuffer(gz.read(n_items[0] * n_rows * n_cols), dtype=np.uint8)\n            res = res.reshape(n_items[0], n_rows * n_cols)\n        else:\n            res = np.frombuffer(gz.read(n_items[0]), dtype=np.uint8)\n            res = res.reshape(n_items[0], 1)\n    return res\n\n\n# one-hot encode a 1-D array\ndef one_hot_encode(array, num_of_classes):\n    return np.eye(num_of_classes)[array.reshape(-1)]",
      "execution_count": 1,
      "outputs": []
    },
    {
      "metadata": {
        "trusted": true
      },
      "cell_type": "code",
      "source": "",
      "execution_count": null,
      "outputs": []
    }
  ],
  "metadata": {
    "kernelspec": {
      "name": "python36",
      "display_name": "Python 3.6",
      "language": "python"
    },
    "language_info": {
      "mimetype": "text/x-python",
      "nbconvert_exporter": "python",
      "name": "python",
      "pygments_lexer": "ipython3",
      "version": "3.6.6",
      "file_extension": ".py",
      "codemirror_mode": {
        "version": 3,
        "name": "ipython"
      }
    }
  },
  "nbformat": 4,
  "nbformat_minor": 2
}
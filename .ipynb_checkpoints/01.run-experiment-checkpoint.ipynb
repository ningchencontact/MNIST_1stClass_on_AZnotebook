{
  "cells": [
    {
      "metadata": {},
      "cell_type": "markdown",
      "source": "Copyright (c) Microsoft Corporation. All rights reserved.\n\nLicensed under the MIT License."
    },
    {
      "metadata": {},
      "cell_type": "markdown",
      "source": "## Introduction to Azure Machine Learning service: Run experiment\n\nIn this example, you'll learn how to use Azure Machine Learning for experimentation. The concepts you'll learn about are workspace, experiment and run.\n\n**Run** is a an execution of Python code that does a machine learning task, such as training a model. Within a run you can log metrics and upload results to Azure cloud, to keep track of your experimentation. \n \nIn this example, the run is a simple notebook cell, but in subsequent tutorials you can learn how to submit different kinds of runs - hyperparameter tuning, automated machine learning, distributed training - to scalable cloud compute.\n \n**Experiment** is a collection of related runs. For example, if you train different models to solve the same problem, you can group the training runs under the same experiment, and later compare their results.\n \n**Workspace** is an Azure resource that contains your experiments, models, deployments and cloud compute resources.\n\nTo illustrate these concepts, we use a simple example of Monte Carlo simulation to estimate pi. You first connect to your workspace, create an experiment that will contains the different simulation runs, and then launch a run and log the progress on Monte Carlo simulation."
    },
    {
      "metadata": {},
      "cell_type": "markdown",
      "source": "First, let's import the Python packages and load your workspace. When you run *ws = Workspace.from_config* below, you will be prompted to log in to your Azure subscription. Once you are connected to your workspace in Azure cloud, you can start experimenting."
    },
    {
      "metadata": {
        "trusted": false
      },
      "cell_type": "code",
      "source": "from azureml.core import Workspace, Experiment, Run\nimport math, random, pickle",
      "execution_count": null,
      "outputs": []
    },
    {
      "metadata": {},
      "cell_type": "markdown",
      "source": "Run the next cell and follow the prompt to use device login to connect to Azure. Ignore any warnings about failing to load or parse files."
    },
    {
      "metadata": {
        "trusted": false
      },
      "cell_type": "code",
      "source": "ws = Workspace.from_config()",
      "execution_count": null,
      "outputs": []
    },
    {
      "metadata": {},
      "cell_type": "markdown",
      "source": "Let's create an experiment. The experiment is bound to a workspace, and contains the methods to launch runs."
    },
    {
      "metadata": {
        "trusted": false
      },
      "cell_type": "code",
      "source": "experiment = Experiment(workspace = ws, name = \"my-first-experiment\")",
      "execution_count": null,
      "outputs": []
    },
    {
      "metadata": {},
      "cell_type": "markdown",
      "source": "Next, let's start a run to estimate Pi value. While the experiment is running, we log metrics about the accuracy of the estimate into run history.\n\nLet's also save the value of pi as a file, and upload that file into run history. In the next notebook we'll use the value in the file to create a web service that computes an area of a circle using our estimate."
    },
    {
      "metadata": {
        "trusted": false
      },
      "cell_type": "code",
      "source": "run = experiment.start_logging()\n\npi_counter = 0\nn_iter = 100000\n\n# Log total number of iterations\nrun.log(\"Number of iterations\",n_iter)\n\nfor i in range(1,n_iter):\n    # Monte Carlo step to update estimate\n    x = random.random()\n    y = random.random()\n    if x*x + y*y < 1.0:\n        pi_counter += 1\n    pi_estimate = 4.0*pi_counter / i\n    \n    # Log convergence every 10000 iterations\n    if i%10000==0:\n        error = math.pi-pi_estimate\n        run.log(\"Pi estimate\",pi_estimate)\n        run.log(\"Error\",error)\n\n# Log final results\nrun.log(\"Final estimate\",pi_estimate)\nrun.log(\"Final error\",math.pi-pi_estimate)\n\n# Write file containing pi value into run history\nwith open(\"pi_estimate.txt\",\"wb\") as f:\n    pickle.dump(str(pi_estimate),f)\nrun.upload_file(name = 'outputs/pi_estimate.txt', path_or_stream = './pi_estimate.txt')\n\n# Complete tracking and get link to details\nrun.complete()\nprint(\"Run completed\")",
      "execution_count": null,
      "outputs": []
    },
    {
      "metadata": {},
      "cell_type": "markdown",
      "source": "Once the run has completed, you can view a detailed report of the run from Azure Portal by simply calling \"run\" and following the link. You can view the convergence of estimate, as well as the uploaded file."
    },
    {
      "metadata": {
        "trusted": false
      },
      "cell_type": "code",
      "source": "run",
      "execution_count": null,
      "outputs": []
    },
    {
      "metadata": {
        "slideshow": {
          "slide_type": "slide"
        }
      },
      "cell_type": "markdown",
      "source": "You can also view all runs within an experiment. If you run the simulation above multiple times, these runs will appear under the experiment view and you can compare them."
    },
    {
      "metadata": {
        "trusted": true
      },
      "cell_type": "code",
      "source": "experiment",
      "execution_count": null,
      "outputs": []
    },
    {
      "metadata": {},
      "cell_type": "markdown",
      "source": "Next, learn how to deploy a web service that computes the area of circle using your estimate using following Notebook:\n\n[Deploy web service](02.deploy-web-service.ipynb)\n\nFor an example using scikit-learn using Azure compute to train image classification model, see:\n\n[tutorials/img-classification-part1-training](./tutorials/img-classification-part1-training.ipynb)"
    },
    {
      "metadata": {
        "trusted": false
      },
      "cell_type": "code",
      "source": "",
      "execution_count": null,
      "outputs": []
    }
  ],
  "metadata": {
    "kernelspec": {
      "name": "python36",
      "display_name": "Python 3.6",
      "language": "python"
    },
    "language_info": {
      "mimetype": "text/x-python",
      "nbconvert_exporter": "python",
      "name": "python",
      "pygments_lexer": "ipython3",
      "version": "3.6.6",
      "file_extension": ".py",
      "codemirror_mode": {
        "version": 3,
        "name": "ipython"
      }
    }
  },
  "nbformat": 4,
  "nbformat_minor": 2
}